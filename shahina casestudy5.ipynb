{
 "cells": [
  {
   "cell_type": "code",
   "execution_count": 27,
   "id": "4b069ea4",
   "metadata": {},
   "outputs": [],
   "source": [
    "import numpy as np\n",
    "import pandas as pd\n",
    "import seaborn as sns\n",
    "import matplotlib.pyplot as plt\n",
    "import scipy.stats as stats\n",
    "from statistics import mean\n",
    "import pandas.io.formats.format as pf"
   ]
  },
  {
   "cell_type": "code",
   "execution_count": 28,
   "id": "232a32a4",
   "metadata": {},
   "outputs": [],
   "source": [
    "data=pd.read_excel(\"C:/Users/shafi/Downloads/Sales_data_zone_wise.xlsx\")"
   ]
  },
  {
   "cell_type": "code",
   "execution_count": 29,
   "id": "78c2f9ec",
   "metadata": {},
   "outputs": [
    {
     "data": {
      "text/html": [
       "<div>\n",
       "<style scoped>\n",
       "    .dataframe tbody tr th:only-of-type {\n",
       "        vertical-align: middle;\n",
       "    }\n",
       "\n",
       "    .dataframe tbody tr th {\n",
       "        vertical-align: top;\n",
       "    }\n",
       "\n",
       "    .dataframe thead th {\n",
       "        text-align: right;\n",
       "    }\n",
       "</style>\n",
       "<table border=\"1\" class=\"dataframe\">\n",
       "  <thead>\n",
       "    <tr style=\"text-align: right;\">\n",
       "      <th></th>\n",
       "      <th>Month</th>\n",
       "      <th>Zone - A</th>\n",
       "      <th>Zone - B</th>\n",
       "      <th>Zone - C</th>\n",
       "      <th>Zone - D</th>\n",
       "    </tr>\n",
       "  </thead>\n",
       "  <tbody>\n",
       "    <tr>\n",
       "      <th>0</th>\n",
       "      <td>Month - 1</td>\n",
       "      <td>1483525</td>\n",
       "      <td>1748451</td>\n",
       "      <td>1523308</td>\n",
       "      <td>2267260</td>\n",
       "    </tr>\n",
       "    <tr>\n",
       "      <th>1</th>\n",
       "      <td>Month - 2</td>\n",
       "      <td>1238428</td>\n",
       "      <td>1707421</td>\n",
       "      <td>2212113</td>\n",
       "      <td>1994341</td>\n",
       "    </tr>\n",
       "    <tr>\n",
       "      <th>2</th>\n",
       "      <td>Month - 3</td>\n",
       "      <td>1860771</td>\n",
       "      <td>2091194</td>\n",
       "      <td>1282374</td>\n",
       "      <td>1241600</td>\n",
       "    </tr>\n",
       "    <tr>\n",
       "      <th>3</th>\n",
       "      <td>Month - 4</td>\n",
       "      <td>1871571</td>\n",
       "      <td>1759617</td>\n",
       "      <td>2290580</td>\n",
       "      <td>2252681</td>\n",
       "    </tr>\n",
       "    <tr>\n",
       "      <th>4</th>\n",
       "      <td>Month - 5</td>\n",
       "      <td>1244922</td>\n",
       "      <td>1606010</td>\n",
       "      <td>1818334</td>\n",
       "      <td>1326062</td>\n",
       "    </tr>\n",
       "  </tbody>\n",
       "</table>\n",
       "</div>"
      ],
      "text/plain": [
       "       Month  Zone - A  Zone - B  Zone - C  Zone - D\n",
       "0  Month - 1   1483525   1748451   1523308   2267260\n",
       "1  Month - 2   1238428   1707421   2212113   1994341\n",
       "2  Month - 3   1860771   2091194   1282374   1241600\n",
       "3  Month - 4   1871571   1759617   2290580   2252681\n",
       "4  Month - 5   1244922   1606010   1818334   1326062"
      ]
     },
     "execution_count": 29,
     "metadata": {},
     "output_type": "execute_result"
    }
   ],
   "source": [
    "data.head()"
   ]
  },
  {
   "cell_type": "code",
   "execution_count": 30,
   "id": "893a56d9",
   "metadata": {},
   "outputs": [
    {
     "data": {
      "text/html": [
       "<div>\n",
       "<style scoped>\n",
       "    .dataframe tbody tr th:only-of-type {\n",
       "        vertical-align: middle;\n",
       "    }\n",
       "\n",
       "    .dataframe tbody tr th {\n",
       "        vertical-align: top;\n",
       "    }\n",
       "\n",
       "    .dataframe thead th {\n",
       "        text-align: right;\n",
       "    }\n",
       "</style>\n",
       "<table border=\"1\" class=\"dataframe\">\n",
       "  <thead>\n",
       "    <tr style=\"text-align: right;\">\n",
       "      <th></th>\n",
       "      <th>Month</th>\n",
       "      <th>Zone - A</th>\n",
       "      <th>Zone - B</th>\n",
       "      <th>Zone - C</th>\n",
       "      <th>Zone - D</th>\n",
       "    </tr>\n",
       "  </thead>\n",
       "  <tbody>\n",
       "    <tr>\n",
       "      <th>24</th>\n",
       "      <td>Month - 25</td>\n",
       "      <td>1256333</td>\n",
       "      <td>1622671</td>\n",
       "      <td>1521792</td>\n",
       "      <td>1695122</td>\n",
       "    </tr>\n",
       "    <tr>\n",
       "      <th>25</th>\n",
       "      <td>Month - 26</td>\n",
       "      <td>1422853</td>\n",
       "      <td>1715465</td>\n",
       "      <td>1853636</td>\n",
       "      <td>1520406</td>\n",
       "    </tr>\n",
       "    <tr>\n",
       "      <th>26</th>\n",
       "      <td>Month - 27</td>\n",
       "      <td>1384426</td>\n",
       "      <td>1983163</td>\n",
       "      <td>1611169</td>\n",
       "      <td>1289160</td>\n",
       "    </tr>\n",
       "    <tr>\n",
       "      <th>27</th>\n",
       "      <td>Month - 28</td>\n",
       "      <td>1616640</td>\n",
       "      <td>1547991</td>\n",
       "      <td>2128022</td>\n",
       "      <td>2178267</td>\n",
       "    </tr>\n",
       "    <tr>\n",
       "      <th>28</th>\n",
       "      <td>Month - 29</td>\n",
       "      <td>1310654</td>\n",
       "      <td>1660092</td>\n",
       "      <td>1947119</td>\n",
       "      <td>1854412</td>\n",
       "    </tr>\n",
       "  </tbody>\n",
       "</table>\n",
       "</div>"
      ],
      "text/plain": [
       "         Month  Zone - A  Zone - B  Zone - C  Zone - D\n",
       "24  Month - 25   1256333   1622671   1521792   1695122\n",
       "25  Month - 26   1422853   1715465   1853636   1520406\n",
       "26  Month - 27   1384426   1983163   1611169   1289160\n",
       "27  Month - 28   1616640   1547991   2128022   2178267\n",
       "28  Month - 29   1310654   1660092   1947119   1854412"
      ]
     },
     "execution_count": 30,
     "metadata": {},
     "output_type": "execute_result"
    }
   ],
   "source": [
    "data.tail()"
   ]
  },
  {
   "cell_type": "markdown",
   "id": "d27b4aac",
   "metadata": {},
   "source": [
    "# ● The mean sales generated by each zone"
   ]
  },
  {
   "cell_type": "code",
   "execution_count": 31,
   "id": "39378c4d",
   "metadata": {},
   "outputs": [],
   "source": [
    " pd.set_option('float_format', '{:,.2f}'.format)"
   ]
  },
  {
   "cell_type": "code",
   "execution_count": 32,
   "id": "a0e86870",
   "metadata": {},
   "outputs": [],
   "source": [
    "data_descibe=data.describe()"
   ]
  },
  {
   "cell_type": "code",
   "execution_count": 33,
   "id": "6cb38fd3",
   "metadata": {
    "scrolled": true
   },
   "outputs": [
    {
     "data": {
      "text/html": [
       "<div>\n",
       "<style scoped>\n",
       "    .dataframe tbody tr th:only-of-type {\n",
       "        vertical-align: middle;\n",
       "    }\n",
       "\n",
       "    .dataframe tbody tr th {\n",
       "        vertical-align: top;\n",
       "    }\n",
       "\n",
       "    .dataframe thead th {\n",
       "        text-align: right;\n",
       "    }\n",
       "</style>\n",
       "<table border=\"1\" class=\"dataframe\">\n",
       "  <thead>\n",
       "    <tr style=\"text-align: right;\">\n",
       "      <th></th>\n",
       "      <th>Zone - A</th>\n",
       "      <th>Zone - B</th>\n",
       "      <th>Zone - C</th>\n",
       "      <th>Zone - D</th>\n",
       "    </tr>\n",
       "  </thead>\n",
       "  <tbody>\n",
       "    <tr>\n",
       "      <th>count</th>\n",
       "      <td>29.00</td>\n",
       "      <td>29.00</td>\n",
       "      <td>29.00</td>\n",
       "      <td>29.00</td>\n",
       "    </tr>\n",
       "    <tr>\n",
       "      <th>mean</th>\n",
       "      <td>1,540,493.14</td>\n",
       "      <td>1,755,559.59</td>\n",
       "      <td>1,772,871.03</td>\n",
       "      <td>1,842,926.76</td>\n",
       "    </tr>\n",
       "    <tr>\n",
       "      <th>std</th>\n",
       "      <td>261,940.06</td>\n",
       "      <td>168,389.89</td>\n",
       "      <td>333,193.72</td>\n",
       "      <td>375,016.48</td>\n",
       "    </tr>\n",
       "    <tr>\n",
       "      <th>min</th>\n",
       "      <td>1,128,185.00</td>\n",
       "      <td>1,527,574.00</td>\n",
       "      <td>1,237,722.00</td>\n",
       "      <td>1,234,311.00</td>\n",
       "    </tr>\n",
       "    <tr>\n",
       "      <th>25%</th>\n",
       "      <td>1,305,972.00</td>\n",
       "      <td>1,606,010.00</td>\n",
       "      <td>1,523,308.00</td>\n",
       "      <td>1,520,406.00</td>\n",
       "    </tr>\n",
       "    <tr>\n",
       "      <th>50%</th>\n",
       "      <td>1,534,390.00</td>\n",
       "      <td>1,740,365.00</td>\n",
       "      <td>1,767,047.00</td>\n",
       "      <td>1,854,412.00</td>\n",
       "    </tr>\n",
       "    <tr>\n",
       "      <th>75%</th>\n",
       "      <td>1,820,196.00</td>\n",
       "      <td>1,875,658.00</td>\n",
       "      <td>2,098,463.00</td>\n",
       "      <td>2,180,416.00</td>\n",
       "    </tr>\n",
       "    <tr>\n",
       "      <th>max</th>\n",
       "      <td>2,004,480.00</td>\n",
       "      <td>2,091,194.00</td>\n",
       "      <td>2,290,580.00</td>\n",
       "      <td>2,364,132.00</td>\n",
       "    </tr>\n",
       "  </tbody>\n",
       "</table>\n",
       "</div>"
      ],
      "text/plain": [
       "          Zone - A     Zone - B     Zone - C     Zone - D\n",
       "count        29.00        29.00        29.00        29.00\n",
       "mean  1,540,493.14 1,755,559.59 1,772,871.03 1,842,926.76\n",
       "std     261,940.06   168,389.89   333,193.72   375,016.48\n",
       "min   1,128,185.00 1,527,574.00 1,237,722.00 1,234,311.00\n",
       "25%   1,305,972.00 1,606,010.00 1,523,308.00 1,520,406.00\n",
       "50%   1,534,390.00 1,740,365.00 1,767,047.00 1,854,412.00\n",
       "75%   1,820,196.00 1,875,658.00 2,098,463.00 2,180,416.00\n",
       "max   2,004,480.00 2,091,194.00 2,290,580.00 2,364,132.00"
      ]
     },
     "execution_count": 33,
     "metadata": {},
     "output_type": "execute_result"
    }
   ],
   "source": [
    "data_descibe"
   ]
  },
  {
   "cell_type": "code",
   "execution_count": 34,
   "id": "72cbf196",
   "metadata": {},
   "outputs": [
    {
     "data": {
      "text/plain": [
       "Zone - A   1,540,493.14\n",
       "Zone - B   1,755,559.59\n",
       "Zone - C   1,772,871.03\n",
       "Zone - D   1,842,926.76\n",
       "Name: mean, dtype: float64"
      ]
     },
     "execution_count": 34,
     "metadata": {},
     "output_type": "execute_result"
    }
   ],
   "source": [
    "data_descibe.iloc[1]"
   ]
  },
  {
   "cell_type": "markdown",
   "id": "ca8f3fe6",
   "metadata": {},
   "source": [
    "# ● Total sales generated by all the zones for each month."
   ]
  },
  {
   "cell_type": "code",
   "execution_count": 35,
   "id": "f00f7058",
   "metadata": {},
   "outputs": [],
   "source": [
    "data['Sum_of_sales']= data.loc[0 :28,['Zone - A','Zone - B','Zone - C','Zone - D']].sum(axis=1)"
   ]
  },
  {
   "cell_type": "code",
   "execution_count": 36,
   "id": "512180ce",
   "metadata": {},
   "outputs": [],
   "source": [
    "data_total=data[['Month','Sum_of_sales']]"
   ]
  },
  {
   "cell_type": "code",
   "execution_count": 37,
   "id": "67e05ba2",
   "metadata": {},
   "outputs": [
    {
     "data": {
      "text/html": [
       "<div>\n",
       "<style scoped>\n",
       "    .dataframe tbody tr th:only-of-type {\n",
       "        vertical-align: middle;\n",
       "    }\n",
       "\n",
       "    .dataframe tbody tr th {\n",
       "        vertical-align: top;\n",
       "    }\n",
       "\n",
       "    .dataframe thead th {\n",
       "        text-align: right;\n",
       "    }\n",
       "</style>\n",
       "<table border=\"1\" class=\"dataframe\">\n",
       "  <thead>\n",
       "    <tr style=\"text-align: right;\">\n",
       "      <th></th>\n",
       "      <th>Month</th>\n",
       "      <th>Sum_of_sales</th>\n",
       "    </tr>\n",
       "  </thead>\n",
       "  <tbody>\n",
       "    <tr>\n",
       "      <th>0</th>\n",
       "      <td>Month - 1</td>\n",
       "      <td>7022544</td>\n",
       "    </tr>\n",
       "    <tr>\n",
       "      <th>1</th>\n",
       "      <td>Month - 2</td>\n",
       "      <td>7152303</td>\n",
       "    </tr>\n",
       "    <tr>\n",
       "      <th>2</th>\n",
       "      <td>Month - 3</td>\n",
       "      <td>6475939</td>\n",
       "    </tr>\n",
       "    <tr>\n",
       "      <th>3</th>\n",
       "      <td>Month - 4</td>\n",
       "      <td>8174449</td>\n",
       "    </tr>\n",
       "    <tr>\n",
       "      <th>4</th>\n",
       "      <td>Month - 5</td>\n",
       "      <td>5995328</td>\n",
       "    </tr>\n",
       "    <tr>\n",
       "      <th>5</th>\n",
       "      <td>Month - 6</td>\n",
       "      <td>7151387</td>\n",
       "    </tr>\n",
       "    <tr>\n",
       "      <th>6</th>\n",
       "      <td>Month - 7</td>\n",
       "      <td>7287108</td>\n",
       "    </tr>\n",
       "    <tr>\n",
       "      <th>7</th>\n",
       "      <td>Month - 8</td>\n",
       "      <td>7816299</td>\n",
       "    </tr>\n",
       "    <tr>\n",
       "      <th>8</th>\n",
       "      <td>Month - 9</td>\n",
       "      <td>6703395</td>\n",
       "    </tr>\n",
       "    <tr>\n",
       "      <th>9</th>\n",
       "      <td>Month - 10</td>\n",
       "      <td>7128210</td>\n",
       "    </tr>\n",
       "    <tr>\n",
       "      <th>10</th>\n",
       "      <td>Month - 11</td>\n",
       "      <td>7032783</td>\n",
       "    </tr>\n",
       "    <tr>\n",
       "      <th>11</th>\n",
       "      <td>Month - 12</td>\n",
       "      <td>6111084</td>\n",
       "    </tr>\n",
       "    <tr>\n",
       "      <th>12</th>\n",
       "      <td>Month - 13</td>\n",
       "      <td>5925424</td>\n",
       "    </tr>\n",
       "    <tr>\n",
       "      <th>13</th>\n",
       "      <td>Month - 14</td>\n",
       "      <td>7155515</td>\n",
       "    </tr>\n",
       "    <tr>\n",
       "      <th>14</th>\n",
       "      <td>Month - 15</td>\n",
       "      <td>5934156</td>\n",
       "    </tr>\n",
       "    <tr>\n",
       "      <th>15</th>\n",
       "      <td>Month - 16</td>\n",
       "      <td>6506659</td>\n",
       "    </tr>\n",
       "    <tr>\n",
       "      <th>16</th>\n",
       "      <td>Month - 17</td>\n",
       "      <td>7149383</td>\n",
       "    </tr>\n",
       "    <tr>\n",
       "      <th>17</th>\n",
       "      <td>Month - 18</td>\n",
       "      <td>7083490</td>\n",
       "    </tr>\n",
       "    <tr>\n",
       "      <th>18</th>\n",
       "      <td>Month - 19</td>\n",
       "      <td>6971953</td>\n",
       "    </tr>\n",
       "    <tr>\n",
       "      <th>19</th>\n",
       "      <td>Month - 20</td>\n",
       "      <td>7124599</td>\n",
       "    </tr>\n",
       "    <tr>\n",
       "      <th>20</th>\n",
       "      <td>Month - 21</td>\n",
       "      <td>7389597</td>\n",
       "    </tr>\n",
       "    <tr>\n",
       "      <th>21</th>\n",
       "      <td>Month - 22</td>\n",
       "      <td>7560001</td>\n",
       "    </tr>\n",
       "    <tr>\n",
       "      <th>22</th>\n",
       "      <td>Month - 23</td>\n",
       "      <td>6687919</td>\n",
       "    </tr>\n",
       "    <tr>\n",
       "      <th>23</th>\n",
       "      <td>Month - 24</td>\n",
       "      <td>7784747</td>\n",
       "    </tr>\n",
       "    <tr>\n",
       "      <th>24</th>\n",
       "      <td>Month - 25</td>\n",
       "      <td>6095918</td>\n",
       "    </tr>\n",
       "    <tr>\n",
       "      <th>25</th>\n",
       "      <td>Month - 26</td>\n",
       "      <td>6512360</td>\n",
       "    </tr>\n",
       "    <tr>\n",
       "      <th>26</th>\n",
       "      <td>Month - 27</td>\n",
       "      <td>6267918</td>\n",
       "    </tr>\n",
       "    <tr>\n",
       "      <th>27</th>\n",
       "      <td>Month - 28</td>\n",
       "      <td>7470920</td>\n",
       "    </tr>\n",
       "    <tr>\n",
       "      <th>28</th>\n",
       "      <td>Month - 29</td>\n",
       "      <td>6772277</td>\n",
       "    </tr>\n",
       "  </tbody>\n",
       "</table>\n",
       "</div>"
      ],
      "text/plain": [
       "         Month  Sum_of_sales\n",
       "0    Month - 1       7022544\n",
       "1    Month - 2       7152303\n",
       "2    Month - 3       6475939\n",
       "3    Month - 4       8174449\n",
       "4    Month - 5       5995328\n",
       "5    Month - 6       7151387\n",
       "6    Month - 7       7287108\n",
       "7    Month - 8       7816299\n",
       "8    Month - 9       6703395\n",
       "9   Month - 10       7128210\n",
       "10  Month - 11       7032783\n",
       "11  Month - 12       6111084\n",
       "12  Month - 13       5925424\n",
       "13  Month - 14       7155515\n",
       "14  Month - 15       5934156\n",
       "15  Month - 16       6506659\n",
       "16  Month - 17       7149383\n",
       "17  Month - 18       7083490\n",
       "18  Month - 19       6971953\n",
       "19  Month - 20       7124599\n",
       "20  Month - 21       7389597\n",
       "21  Month - 22       7560001\n",
       "22  Month - 23       6687919\n",
       "23  Month - 24       7784747\n",
       "24  Month - 25       6095918\n",
       "25  Month - 26       6512360\n",
       "26  Month - 27       6267918\n",
       "27  Month - 28       7470920\n",
       "28  Month - 29       6772277"
      ]
     },
     "execution_count": 37,
     "metadata": {},
     "output_type": "execute_result"
    }
   ],
   "source": [
    "data_total"
   ]
  },
  {
   "cell_type": "code",
   "execution_count": 38,
   "id": "2ac73b11",
   "metadata": {},
   "outputs": [
    {
     "data": {
      "image/png": "[encoded data removed]",
      "text/plain": [
       "<Figure size 1440x864 with 1 Axes>"
      ]
     },
     "metadata": {},
     "output_type": "display_data"
    }
   ],
   "source": [
    "sns.lineplot(data=data_total, x=\"Month\", y=\"Sum_of_sales\")\n",
    "sns.set(rc = {'figure.figsize':(20,12)})\n",
    "plt.xticks(rotation=90);"
   ]
  },
  {
   "cell_type": "markdown",
   "id": "9b3ae2ec",
   "metadata": {},
   "source": [
    "# ● Check whether all the zones generate the same amount of sales.\n"
   ]
  },
  {
   "cell_type": "markdown",
   "id": "2cfcd7c8",
   "metadata": {},
   "source": [
    "Null Hypothesis H0-The mean of the sales generated by the four zones are equal.          \n",
    "Alternate Hypothesis H1-The mean of the sales generated by the four zones are not equal."
   ]
  },
  {
   "cell_type": "code",
   "execution_count": 39,
   "id": "9f076608",
   "metadata": {},
   "outputs": [
    {
     "name": "stdout",
     "output_type": "stream",
     "text": [
      "F-statistic= 5.672056106843581\n",
      "p-value= 0.0011827601694503335\n"
     ]
    }
   ],
   "source": [
    "f,p=stats.f_oneway(data['Zone - A'],data['Zone - B'],data['Zone - C'],data['Zone - D'])\n",
    "\n",
    "print('F-statistic=',f)\n",
    "print('p-value=',p)"
   ]
  },
  {
   "cell_type": "code",
   "execution_count": 40,
   "id": "88d29625",
   "metadata": {},
   "outputs": [
    {
     "name": "stdout",
     "output_type": "stream",
     "text": [
      "F-statistic= 5.672\n",
      "p-value= 0.001\n"
     ]
    }
   ],
   "source": [
    "print('F-statistic=',round(f,3))\n",
    "print('p-value=',round(p,3))"
   ]
  },
  {
   "cell_type": "code",
   "execution_count": 41,
   "id": "95890099",
   "metadata": {},
   "outputs": [
    {
     "name": "stdout",
     "output_type": "stream",
     "text": [
      "Reject null Hypothesis.\n"
     ]
    }
   ],
   "source": [
    "if p<0.05:\n",
    "    print('Reject null Hypothesis.')\n",
    "else:\n",
    "    print('Accept null hypothesis.')"
   ]
  },
  {
   "cell_type": "markdown",
   "id": "312d9da2",
   "metadata": {},
   "source": [
    "# So the mean of the sales generated by the four zones are not equal."
   ]
  },
  {
   "cell_type": "code",
   "execution_count": 26,
   "id": "f0bd3eb2",
   "metadata": {},
   "outputs": [
    {
     "data": {
      "image/png": "[encoded data removed]",
      "text/plain": [
       "<Figure size 1440x864 with 1 Axes>"
      ]
     },
     "metadata": {},
     "output_type": "display_data"
    }
   ],
   "source": [
    "sns.lineplot(data=data_descibe.iloc[1]);"
   ]
  }
 ],
 "metadata": {
  "kernelspec": {
   "display_name": "Python 3",
   "language": "python",
   "name": "python3"
  },
  "language_info": {
   "codemirror_mode": {
    "name": "ipython",
    "version": 3
   },
   "file_extension": ".py",
   "mimetype": "text/x-python",
   "name": "python",
   "nbconvert_exporter": "python",
   "pygments_lexer": "ipython3",
   "version": "3.8.8"
  }
 },
 "nbformat": 4,
 "nbformat_minor": 5
}
